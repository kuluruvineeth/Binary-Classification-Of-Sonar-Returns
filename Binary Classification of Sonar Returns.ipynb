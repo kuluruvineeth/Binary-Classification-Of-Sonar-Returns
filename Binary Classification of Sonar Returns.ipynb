{
 "cells": [
  {
   "cell_type": "markdown",
   "id": "blond-philippines",
   "metadata": {},
   "source": [
    "# Sonar Object Classifiction Dataset\n",
    "* It describes sonar chirp returns bouncing off different surfaces.\n",
    "* The 60 input variables are the strength of the returns at different angles.\n",
    "* It is a binary classification problem that requires a model to differentiate rocks from metal cylinders."
   ]
  },
  {
   "cell_type": "markdown",
   "id": "sweet-halifax",
   "metadata": {},
   "source": [
    "## 1. Baseline Neural Network Model Performance"
   ]
  },
  {
   "cell_type": "code",
   "execution_count": 1,
   "id": "empirical-gentleman",
   "metadata": {},
   "outputs": [],
   "source": [
    "import numpy as np\n",
    "import pandas as pd\n",
    "from keras.models import Sequential\n",
    "from keras.layers import Dense\n",
    "from keras.wrappers.scikit_learn import KerasClassifier\n",
    "from sklearn.model_selection import cross_val_score\n",
    "from sklearn.preprocessing import LabelEncoder\n",
    "from sklearn.model_selection import StratifiedKFold\n",
    "from sklearn.preprocessing import StandardScaler\n",
    "from sklearn.pipeline import Pipeline"
   ]
  },
  {
   "cell_type": "code",
   "execution_count": 2,
   "id": "canadian-concentration",
   "metadata": {},
   "outputs": [],
   "source": [
    "# fix random seed for reproducibility\n",
    "seed = 7\n",
    "np.random.seed(seed)"
   ]
  },
  {
   "cell_type": "code",
   "execution_count": 4,
   "id": "controlled-green",
   "metadata": {},
   "outputs": [],
   "source": [
    "# load dataset\n",
    "dataframe = pd.read_csv('sonar.csv',header=None)\n",
    "dataset = dataframe.values\n",
    "\n",
    "# split into input(X) and output (Y) variables\n",
    "X = dataset[:,0:60].astype(float)\n",
    "Y = dataset[:,60]\n"
   ]
  },
  {
   "cell_type": "code",
   "execution_count": 6,
   "id": "healthy-playback",
   "metadata": {},
   "outputs": [
    {
     "name": "stdout",
     "output_type": "stream",
     "text": [
      "[1 1 1 1 1 1 1 1 1 1 1 1 1 1 1 1 1 1 1 1 1 1 1 1 1 1 1 1 1 1 1 1 1 1 1 1 1\n",
      " 1 1 1 1 1 1 1 1 1 1 1 1 1 1 1 1 1 1 1 1 1 1 1 1 1 1 1 1 1 1 1 1 1 1 1 1 1\n",
      " 1 1 1 1 1 1 1 1 1 1 1 1 1 1 1 1 1 1 1 1 1 1 1 0 0 0 0 0 0 0 0 0 0 0 0 0 0\n",
      " 0 0 0 0 0 0 0 0 0 0 0 0 0 0 0 0 0 0 0 0 0 0 0 0 0 0 0 0 0 0 0 0 0 0 0 0 0\n",
      " 0 0 0 0 0 0 0 0 0 0 0 0 0 0 0 0 0 0 0 0 0 0 0 0 0 0 0 0 0 0 0 0 0 0 0 0 0\n",
      " 0 0 0 0 0 0 0 0 0 0 0 0 0 0 0 0 0 0 0 0 0 0 0]\n"
     ]
    }
   ],
   "source": [
    "# encode class values as integers\n",
    "encoder = LabelEncoder()\n",
    "encoder.fit(Y)\n",
    "encoded_Y = encoder.transform(Y)\n",
    "print(encoded_Y)"
   ]
  },
  {
   "cell_type": "code",
   "execution_count": 7,
   "id": "undefined-haiti",
   "metadata": {},
   "outputs": [],
   "source": [
    "# baseline model\n",
    "def create_baseline():\n",
    "    model = Sequential()\n",
    "    model.add(Dense(60,input_dim=60,activation='relu'))\n",
    "    model.add(Dense(1,activation='sigmoid'))\n",
    "    model.compile(loss='binary_crossentropy',optimizer='adam',metrics=['accuracy'])\n",
    "    return model"
   ]
  },
  {
   "cell_type": "code",
   "execution_count": 9,
   "id": "vocational-deputy",
   "metadata": {},
   "outputs": [
    {
     "name": "stdout",
     "output_type": "stream",
     "text": [
      "Baseline: 80.76% (8.64%)\n"
     ]
    }
   ],
   "source": [
    "# evaluate model with standardized dataset\n",
    "estimator = KerasClassifier(build_fn=create_baseline,epochs=100,batch_size=5,verbose=0)\n",
    "kfold = StratifiedKFold(n_splits=10,shuffle=True,random_state=seed)\n",
    "results = cross_val_score(estimator,X,encoded_Y,cv=kfold)\n",
    "print(\"Baseline: %.2f%% (%.2f%%)\" %(results.mean()*100,results.std()*100))"
   ]
  },
  {
   "cell_type": "markdown",
   "id": "flying-lincoln",
   "metadata": {},
   "source": [
    "## 2. Improve Performance With Data Preparation\n",
    "* An effective data preparation scheme for tabular data when building neural netowork models is standardization.\n",
    "* Data is rescaled such that the mean value for each attribute is 0 and the standard deviation is 1."
   ]
  },
  {
   "cell_type": "code",
   "execution_count": 10,
   "id": "clean-episode",
   "metadata": {},
   "outputs": [
    {
     "name": "stdout",
     "output_type": "stream",
     "text": [
      "Standardized: 86.95% (6.97%)\n"
     ]
    }
   ],
   "source": [
    "estimators = []\n",
    "estimators.append(('standardize',StandardScaler()))\n",
    "estimators.append(('mlp',KerasClassifier(build_fn=create_baseline,epochs=100,batch_size=5,verbose=0)))\n",
    "pipeline = Pipeline(estimators)\n",
    "kfold = StratifiedKFold(n_splits=10,shuffle=True,random_state=seed)\n",
    "results = cross_val_score(pipeline,X,encoded_Y,cv=kfold)\n",
    "print(\"Standardized: %.2f%% (%.2f%%)\" %(results.mean()*100,results.std()*100))"
   ]
  },
  {
   "cell_type": "markdown",
   "id": "dedicated-thesis",
   "metadata": {},
   "source": [
    "## 3. Tuning Layers and Neurons in the Model\n",
    "* There are many things to tune on a neural network,such as the *weight initialization,activation functions,optimization procedure and so on*.\n",
    "* One aspect that may have an outsized effect is the structure of the network itself called the **network topology**.\n",
    "* Experiments on the structure of the network : making it smaller and making it larger."
   ]
  },
  {
   "cell_type": "markdown",
   "id": "weekly-jacket",
   "metadata": {},
   "source": [
    "## 3.1 Evaluate a smaller network\n",
    "* we take our baseline model with 60 neurons in the hidden layer and reduce it by half to 30.\n",
    "* This will put pressure on the network during training to pick out the most important structure in the input data to model."
   ]
  },
  {
   "cell_type": "code",
   "execution_count": 12,
   "id": "greek-electron",
   "metadata": {},
   "outputs": [
    {
     "name": "stdout",
     "output_type": "stream",
     "text": [
      "Smaller: 85.57% (8.50%)\n"
     ]
    }
   ],
   "source": [
    "# smaller model\n",
    "def create_smaller():\n",
    "    model = Sequential()\n",
    "    model.add(Dense(30,input_dim=60,activation='relu'))\n",
    "    model.add(Dense(1,activation='sigmoid'))\n",
    "    model.compile(loss='binary_crossentropy',optimizer='adam',metrics=['accuracy'])\n",
    "    return model\n",
    "\n",
    "np.random.seed(seed)\n",
    "estimators = []\n",
    "estimators.append(('standardize',StandardScaler()))\n",
    "estimators.append(('mlp',KerasClassifier(build_fn=create_smaller,epochs=100,batch_size=5,verbose=0)))\n",
    "pipeline = Pipeline(estimators)\n",
    "kfold = StratifiedKFold(n_splits=10,shuffle=True,random_state=seed)\n",
    "results = cross_val_score(pipeline,X,encoded_Y,cv=kfold)\n",
    "print(\"Smaller: %.2f%% (%.2f%%)\" %(results.mean()*100,results.std()*100))"
   ]
  },
  {
   "cell_type": "markdown",
   "id": "circular-parallel",
   "metadata": {},
   "source": [
    "## 3.2 Evaluate a Larger Network\n",
    "* Here, we add one new layer to the network that introduces another hidden layer with 30 neurons after the first hidden layer.\n",
    "* 60 inputs -> [60->30] -> 1 output"
   ]
  },
  {
   "cell_type": "code",
   "execution_count": 13,
   "id": "cardiac-tourism",
   "metadata": {},
   "outputs": [
    {
     "name": "stdout",
     "output_type": "stream",
     "text": [
      "Larger: 87.40% (6.78%)\n"
     ]
    }
   ],
   "source": [
    "# larger model\n",
    "def create_larger():\n",
    "    model = Sequential()\n",
    "    model.add(Dense(60,input_dim=60,activation='relu'))\n",
    "    model.add(Dense(30,activation='relu'))\n",
    "    model.add(Dense(1,activation='sigmoid'))\n",
    "    model.compile(loss='binary_crossentropy',optimizer='adam',metrics=['accuracy'])\n",
    "    return model\n",
    "\n",
    "np.random.seed(seed)\n",
    "estimators = []\n",
    "estimators.append(('standardize',StandardScaler()))\n",
    "estimators.append(('mlp',KerasClassifier(build_fn=create_larger,epochs=100,batch_size=5,verbose=0)))\n",
    "pipeline = Pipeline(estimators)\n",
    "kfold = StratifiedKFold(n_splits=10,shuffle=True,random_state=seed)\n",
    "results = cross_val_score(pipeline,X,encoded_Y,cv=kfold)\n",
    "print(\"Larger: %.2f%% (%.2f%%)\" %(results.mean()*100,results.std()*100))\n"
   ]
  },
  {
   "cell_type": "markdown",
   "id": "hollywood-receiver",
   "metadata": {},
   "source": [
    "# Summary\n",
    "* Discovered how we can work through a binary classification problem step-by-step with keras."
   ]
  },
  {
   "cell_type": "code",
   "execution_count": null,
   "id": "exceptional-armenia",
   "metadata": {},
   "outputs": [],
   "source": []
  }
 ],
 "metadata": {
  "kernelspec": {
   "display_name": "Python 3",
   "language": "python",
   "name": "python3"
  },
  "language_info": {
   "codemirror_mode": {
    "name": "ipython",
    "version": 3
   },
   "file_extension": ".py",
   "mimetype": "text/x-python",
   "name": "python",
   "nbconvert_exporter": "python",
   "pygments_lexer": "ipython3",
   "version": "3.7.5"
  }
 },
 "nbformat": 4,
 "nbformat_minor": 5
}
